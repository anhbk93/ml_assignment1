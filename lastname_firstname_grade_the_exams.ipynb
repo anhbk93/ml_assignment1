{
 "cells": [
  {
   "cell_type": "markdown",
   "metadata": {},
   "source": [
    "# Project name: Test Grade Calculator"
   ]
  },
  {
   "cell_type": "code",
   "execution_count": 13,
   "metadata": {},
   "outputs": [],
   "source": [
    "import numpy as np\n",
    "import pandas as pd"
   ]
  },
  {
   "cell_type": "code",
   "execution_count": 14,
   "metadata": {},
   "outputs": [],
   "source": [
    "NUM_OF_DATA = 26\n",
    "ANSWER_KEYS = \"B,A,D,D,C,B,D,A,C,C,D,B,A,B,A,C,B,D,A,C,A,A,B,D,D\""
   ]
  },
  {
   "cell_type": "code",
   "execution_count": 46,
   "metadata": {},
   "outputs": [],
   "source": [
    "def validate_student_response(response):\n",
    "    data = response.strip().split(\",\")\n",
    "    response_length = len(data)\n",
    "    status = False\n",
    "\n",
    "    if response_length != NUM_OF_DATA:\n",
    "        print(f\"Invalid line of data: does not contain exactly 26 values:\\n{response}\")\n",
    "    else:\n",
    "        student_id = data[0]\n",
    "\n",
    "        if not student_id or student_id[0] != \"N\" or len(student_id[1:]) != 8 or not student_id[1:].isdigit():\n",
    "            print(f\"Invalid line of data: N# is invalid\\n{response}\")\n",
    "        else:\n",
    "            status = True\n",
    "\n",
    "    return status, data"
   ]
  },
  {
   "cell_type": "code",
   "execution_count": 16,
   "metadata": {},
   "outputs": [],
   "source": []
  },
  {
   "cell_type": "code",
   "execution_count": 69,
   "metadata": {},
   "outputs": [
    {
     "name": "stdin",
     "output_type": "stream",
     "text": [
      "Enter a class file to grade (i.e. class1 for class1.txt): class2\n"
     ]
    },
    {
     "name": "stdout",
     "output_type": "stream",
     "text": [
      "ME ./Data Files/class2.txt\n",
      "Successfully opened class2.txt\n",
      "**** ANALYZING ****\n",
      "Invalid line of data: does not contain exactly 26 values:\n",
      "N00000023,,A,D,D,C,B,D,A,C,C,,C,,B,A,C,B,D,A,C,A,A\n",
      "\n",
      "Invalid line of data: N# is invalid\n",
      "N0000002,B,A,D,D,C,B,D,A,C,D,D,D,A,,A,C,D,,A,C,A,A,B,D,D\n",
      "\n",
      "Invalid line of data: N# is invalid\n",
      "NA0000027,B,A,D,D,,B,,A,C,B,D,B,A,,A,C,B,D,A,,A,A,B,D,D\n",
      "\n",
      "Invalid line of data: does not contain exactly 26 values:\n",
      "N00000035,B,A,D,D,B,B,,A,C,,D,B,A,B,A,A,B,D,A,C,A,C,B,D,D,A,A\n",
      "\n",
      "**** REPORT ****\n",
      "Total valid lines of data:  21\n",
      "Total invalid lines of data: 4\n"
     ]
    }
   ],
   "source": [
    "try:\n",
    "    file_name = input(\"Enter a class file to grade (i.e. class1 for class1.txt):\").strip()\n",
    "    file_path = \"./Data Files/\" + file_name + \".txt\"\n",
    "\n",
    "    total_lines = 0\n",
    "    valid_lines = 0\n",
    "    list_of_correct_responses = []\n",
    "    print(\"ME\", file_path)\n",
    "    with open(file_path, \"r\") as file:\n",
    "        print(f\"Successfully opened {file_name}.txt\")\n",
    "        print(\"**** ANALYZING ****\")\n",
    "        for line in file.readlines():\n",
    "            total_lines += 1\n",
    "            is_valid, obj_data = validate_student_response(line)\n",
    "            student_marks = [0] * 25\n",
    "\n",
    "            if is_valid:\n",
    "                valid_lines += 1\n",
    "                student_id = obj_data[0]\n",
    "                student_response = obj_data[1:]\n",
    "                correct_answers = ANSWER_KEYS.split(\",\")\n",
    "                student_dict = {\"StudentID\": student_id}\n",
    "                for idx in range(1, 26):\n",
    "                    student_selection = student_response[idx-1].strip()\n",
    "                    correct_answer = correct_answers[idx-1].strip()\n",
    "                    \n",
    "                    if not student_selection:\n",
    "                        point = 0\n",
    "                    elif student_selection == correct_answer:\n",
    "                        point = 4\n",
    "                    else:\n",
    "                        point = -1\n",
    "                        \n",
    "                    student_dict[\"SUBJECT\" + str(idx)] = point\n",
    "                    \n",
    "                list_of_correct_responses.append(student_dict)\n",
    "                \n",
    "        if total_lines == valid_lines:\n",
    "            print(\"No errors found!\")\n",
    "\n",
    "    print(\"**** REPORT ****\")\n",
    "    print(\"Total valid lines of data: \", valid_lines)\n",
    "    print(\"Total invalid lines of data:\", total_lines - valid_lines)\n",
    "      \n",
    "    df = pd.DataFrame(list_of_correct_responses)\n",
    "    df.set_index(\"StudentID\", inplace=True)\n",
    "    df[\"Total\"] = df.sum(axis=1)\n",
    "    \n",
    "\n",
    "except FileNotFoundError as ex:\n",
    "    print(f\"Cannot find the file named {file_name} in 'Data Files' folder, please check and re-run the program.\")"
   ]
  },
  {
   "cell_type": "code",
   "execution_count": 70,
   "metadata": {},
   "outputs": [
    {
     "data": {
      "text/html": [
       "<div>\n",
       "<style scoped>\n",
       "    .dataframe tbody tr th:only-of-type {\n",
       "        vertical-align: middle;\n",
       "    }\n",
       "\n",
       "    .dataframe tbody tr th {\n",
       "        vertical-align: top;\n",
       "    }\n",
       "\n",
       "    .dataframe thead th {\n",
       "        text-align: right;\n",
       "    }\n",
       "</style>\n",
       "<table border=\"1\" class=\"dataframe\">\n",
       "  <thead>\n",
       "    <tr style=\"text-align: right;\">\n",
       "      <th></th>\n",
       "      <th>Total</th>\n",
       "    </tr>\n",
       "  </thead>\n",
       "  <tbody>\n",
       "    <tr>\n",
       "      <th>count</th>\n",
       "      <td>21.000000</td>\n",
       "    </tr>\n",
       "    <tr>\n",
       "      <th>mean</th>\n",
       "      <td>78.000000</td>\n",
       "    </tr>\n",
       "    <tr>\n",
       "      <th>std</th>\n",
       "      <td>9.055385</td>\n",
       "    </tr>\n",
       "    <tr>\n",
       "      <th>min</th>\n",
       "      <td>66.000000</td>\n",
       "    </tr>\n",
       "    <tr>\n",
       "      <th>25%</th>\n",
       "      <td>73.000000</td>\n",
       "    </tr>\n",
       "    <tr>\n",
       "      <th>50%</th>\n",
       "      <td>76.000000</td>\n",
       "    </tr>\n",
       "    <tr>\n",
       "      <th>75%</th>\n",
       "      <td>86.000000</td>\n",
       "    </tr>\n",
       "    <tr>\n",
       "      <th>max</th>\n",
       "      <td>100.000000</td>\n",
       "    </tr>\n",
       "  </tbody>\n",
       "</table>\n",
       "</div>"
      ],
      "text/plain": [
       "            Total\n",
       "count   21.000000\n",
       "mean    78.000000\n",
       "std      9.055385\n",
       "min     66.000000\n",
       "25%     73.000000\n",
       "50%     76.000000\n",
       "75%     86.000000\n",
       "max    100.000000"
      ]
     },
     "execution_count": 70,
     "metadata": {},
     "output_type": "execute_result"
    }
   ],
   "source": [
    "# Pandas\n",
    "new_df = df[[\"Total\"]]\n",
    "new_df.describe()"
   ]
  },
  {
   "cell_type": "code",
   "execution_count": 71,
   "metadata": {},
   "outputs": [
    {
     "name": "stdout",
     "output_type": "stream",
     "text": [
      "Mean (average) score:  78.0\n",
      "Highest score:  100\n",
      "Lowest score:  66\n",
      "Range of scores:  34\n",
      "Median score:  76.0\n"
     ]
    }
   ],
   "source": [
    "# Numpy\n",
    "marks = new_df[\"Total\"].tolist()\n",
    "marks_np = np.array(marks)\n",
    "print(\"Mean (average) score: \", marks_np.mean())\n",
    "print(\"Highest score: \", marks_np.max())\n",
    "print(\"Lowest score: \", marks_np.min())\n",
    "print(\"Range of scores: \", marks_np.max() - marks_np.min())\n",
    "print(\"Median score: \", np.median(marks_np))"
   ]
  },
  {
   "cell_type": "code",
   "execution_count": 72,
   "metadata": {},
   "outputs": [
    {
     "data": {
      "text/plain": [
       "[['N00000021', 68],\n",
       " ['N00000022', 76],\n",
       " ['N00000024', 73],\n",
       " ['N00000026', 72],\n",
       " ['N00000028', 73],\n",
       " ['N00000029', 87],\n",
       " ['N00000030', 82],\n",
       " ['N00000031', 76],\n",
       " ['N00000032', 87],\n",
       " ['N00000033', 77],\n",
       " ['N00000034', 69],\n",
       " ['N00000036', 77],\n",
       " ['N00000037', 75],\n",
       " ['N00000038', 73],\n",
       " ['N00000039', 66],\n",
       " ['N00000040', 73],\n",
       " ['N00000041', 91],\n",
       " ['N00000042', 100],\n",
       " ['N00000043', 86],\n",
       " ['N00000044', 90],\n",
       " ['N00000045', 67]]"
      ]
     },
     "execution_count": 72,
     "metadata": {},
     "output_type": "execute_result"
    }
   ],
   "source": [
    "new_df.reset_index(inplace=True)\n",
    "grades = new_df.values.tolist()\n",
    "grades"
   ]
  },
  {
   "cell_type": "code",
   "execution_count": 73,
   "metadata": {},
   "outputs": [
    {
     "name": "stdout",
     "output_type": "stream",
     "text": [
      "Finish assignment!\n"
     ]
    }
   ],
   "source": [
    "with open(f\"./processed/{file_name}_grades.txt\", \"w\") as w_file:\n",
    "    for student, mark in grades:\n",
    "        w_file.write(f\"{student},{mark}\\n\")\n",
    "\n",
    "    print(\"Finish assignment!\")"
   ]
  }
 ],
 "metadata": {
  "kernelspec": {
   "display_name": "Python 3",
   "language": "python",
   "name": "python3"
  },
  "language_info": {
   "codemirror_mode": {
    "name": "ipython",
    "version": 3
   },
   "file_extension": ".py",
   "mimetype": "text/x-python",
   "name": "python",
   "nbconvert_exporter": "python",
   "pygments_lexer": "ipython3",
   "version": "3.8.3"
  }
 },
 "nbformat": 4,
 "nbformat_minor": 4
}
